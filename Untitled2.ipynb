{
  "nbformat": 4,
  "nbformat_minor": 0,
  "metadata": {
    "colab": {
      "provenance": [],
      "authorship_tag": "ABX9TyOiP2bwxx1AHFPEmGDhXkc2",
      "include_colab_link": true
    },
    "kernelspec": {
      "name": "python3",
      "display_name": "Python 3"
    },
    "language_info": {
      "name": "python"
    }
  },
  "cells": [
    {
      "cell_type": "markdown",
      "metadata": {
        "id": "view-in-github",
        "colab_type": "text"
      },
      "source": [
        "<a href=\"https://colab.research.google.com/github/rollotea/youtube-streamlit/blob/main/Untitled2.ipynb\" target=\"_parent\"><img src=\"https://colab.research.google.com/assets/colab-badge.svg\" alt=\"Open In Colab\"/></a>"
      ]
    },
    {
      "cell_type": "code",
      "execution_count": null,
      "metadata": {
        "id": "lQOL54alTGQu"
      },
      "outputs": [],
      "source": [
        "import pandas as pd\n",
        "\n",
        "train = pd.read_csv('train.csv')\n",
        "test = pd.read_csv('test.csv')\n",
        "test = test.drop(columns = ['id'])\n",
        "test_x = test\n",
        "\n",
        "cols = ['term', 'grade', 'employment_length', 'purpose', 'application_type']\n",
        "\n",
        "from sklearn.preprocessing import LabelEncoder\n",
        "\n",
        "for col in cols:\n",
        "  le = LabelEncoder()\n",
        "  le.fit(train[col])\n",
        "  train[col] = le.transform(train[col])\n",
        "  test_x[col] = le.transform(test_x[col])\n",
        "\n",
        "train_x = train.drop(columns = ['id', 'loan_status'])\n",
        "train_y = train['loan_status']\n",
        "\n",
        "train_y = train_y.replace({'FullyPaid': 0, 'ChargedOff': 1})\n",
        "train_y.info()\n",
        "train_x.info()\n",
        "\n",
        "from sklearn.model_selection import train_test_split\n",
        "\n",
        "tr_x, va_x, tr_y, va_y = train_test_split(train_x, train_y, test_size = 0.2, random_state = 0)\n",
        "\n",
        "import xgboost as xgb\n",
        "from sklearn.metrics import log_loss\n",
        "\n",
        "dtrain = xgb.DMatrix(tr_x, label = tr_y)\n",
        "dvalid = xgb.DMatrix(va_x, label = va_y)\n",
        "dtest = xgb.DMatrix(test_x)\n",
        "\n",
        "params = {'objective': 'binary:logistic', 'silent': 1, 'random_state': 71}\n",
        "num_round = 50\n",
        "\n",
        "watchlist = [(dtrain, 'train'), (dvalid, 'eval')]\n",
        "model = xgb.train(params, dtrain, num_round, evals=watchlist)\n",
        "\n",
        "va_pred = model.predict(dvalid)\n",
        "score = log_loss(va_y, va_pred)\n",
        "print(f'logloss: [score:.4f]')\n",
        "\n",
        "pred = model.predict(dtest).round()\n",
        "\n",
        "df_pred = pd.DataFrame(pred)\n",
        "\n",
        "df_pred.to_excel('submit2.xlsx', sheet_name='new_sheet1')"
      ]
    }
  ]
}